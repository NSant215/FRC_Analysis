{
 "cells": [
  {
   "cell_type": "markdown",
   "metadata": {},
   "source": [
    "\n",
    "# Linear Discriminant Analysis (LDA)\n"
   ]
  },
  {
   "cell_type": "markdown",
   "metadata": {},
   "source": [
    "This is a data-analysis technique, like PCA, that is focused on reducing the dimensions of a dataset. Instead of trying to maximise the variation of datapoints along an axis, we are trying to maximise the separatability of different classes in the dataset. \n",
    "\n",
    "It's a Gaussian Maximum-Likelihood Classification Technique. This means each class is assumed to have a gaussian distribution of points, with a mean and variance. Our Eigenvectors are now aligned to maximise variation between classes. \n",
    "\n",
    "LDA maximises the separation between classes in two ways:\n",
    "1. Maximise the difference in mean \n",
    "2. Minimise the variation (scatter) within a class.\n",
    "\n",
    "For two classes: maximise $\\frac{(\\mu_1 - \\mu_2)^2}{s_1^2 + s_2^2}$\n",
    "\n",
    "When we have more than 2 categories, we find a central point in the data, and maximise the distance of means to that point.\n",
    "\n",
    "i.e. maximise $\\frac{\\sum_i d_i^2}{\\sum_i s_i^2}$\n",
    "\n",
    "It's a supervised learning method, so labels for each datapoint are needed when we analyse the data in order to conduct the analysis. For our case, I will be looking at attaching labels to samples in the 0 to 0.5 range, the 0.5 to 2 range, and the 2 to 2.5 range.\n",
    "\n",
    "Depending on the success of these categories, I will look at changing the ranges to which we attach groups to see if we get better separation. \n",
    "\n",
    "A score has been calculated for each run of the process by using the training data as the test data and is the percentage of points that are correctly classed. \n",
    "\n",
    "NB: PROBLEMS TO KEEP IN MIND:\n",
    "WE ASSUME EVERY CLASS HAS THE SAME COVARIANCE MATRIX. FROM ORP WE KNOW THIS IS NOT THE CASE. \"It should be mentioned that LDA assumes normal distributed data, features that are statistically independent, and identical covariance matrices for every class. However, this only applies for LDA as a classifier and LDA for dimensionality reduction can also work reasonably well if those assumptions are violated.\"\n"
   ]
  },
  {
   "cell_type": "markdown",
   "metadata": {},
   "source": [
    "\n",
    "### Importing Modules\n"
   ]
  },
  {
   "cell_type": "code",
   "execution_count": 1,
   "metadata": {},
   "outputs": [],
   "source": [
    "import numpy as np\n",
    "import pandas as pd\n",
    "import matplotlib.pyplot as plt\n",
    "from pytest import param\n",
    "from sklearn import linear_model\n",
    "import scipy\n",
    "from sklearn.discriminant_analysis import LinearDiscriminantAnalysis\n",
    "from sklearn.discriminant_analysis import QuadraticDiscriminantAnalysis\n",
    "import matplotlib.gridspec as gridspec\n",
    "import math\n",
    "import regressions\n",
    "import data\n",
    "from sklearn.model_selection import train_test_split as split\n",
    "from scipy import linalg\n",
    "from tqdm import tqdm\n",
    "\n",
    "np.set_printoptions(precision=2)"
   ]
  },
  {
   "cell_type": "markdown",
   "metadata": {},
   "source": [
    "\n",
    "## Setup\n"
   ]
  },
  {
   "cell_type": "code",
   "execution_count": 6,
   "metadata": {},
   "outputs": [],
   "source": [
    "def LDA_trial(FRC_groups, X, y):\n",
    "    '''Conduct an LDA analysis using the SciKit Imported LDA function.\n",
    "\n",
    "    Inputs\n",
    "        FRC_groups:     [[float]]       a list of length-2 vectors containing the lower and \n",
    "                                        upper bounds of each 'class' we are defining\n",
    "        X:              (NxM) array     input data \n",
    "        y:              (Nx1) array     datapoint class assignments\n",
    "\n",
    "    Outputs\n",
    "        X:              (NxM) array     normalised input data\n",
    "        X_r:            (Nx2) array     datapoints projected onto first 2 LDs\n",
    "        lda:            lda ojbect      contains extractable information on the lda, such as the unit vectors.\n",
    "    '''\n",
    "    \n",
    "    num_groups = len(FRC_groups)\n",
    "    \n",
    "    lda = LinearDiscriminantAnalysis(store_covariance=True, priors = [1/num_groups]*num_groups)\n",
    "\n",
    "    # imported function normalises the data itself.\n",
    "    X = data.normalise(X)\n",
    "    lda.fit(X, y)\n",
    "    X_r = lda.transform(X)\n",
    "\n",
    "    return X, X_r, lda\n",
    "\n",
    "\n",
    "def plot_lda(num_groups, X_lda, label_dict, y):\n",
    "    '''Plots the transformed data onto a space of the 2 most important eigenvectors.\n",
    "    \n",
    "    Inputs:\n",
    "        num_groups:     int             the number of groups we split into\n",
    "        X_lda           (MxN) array     transformed data array to first two LDs\n",
    "        label_dict      {int:str}       mapping each class to an identifying name\n",
    "        y               (Nx1) array     labels for each datapoint\n",
    "    \n",
    "    returns plot of the data in the transformed space.\n",
    "    '''\n",
    "\n",
    "    ax = plt.subplot(111)\n",
    "    for label in range(num_groups):\n",
    "        plt.scatter(x=X_lda[:,0].real[y == label],\n",
    "                    y=X_lda[:,1].real[y == label],\n",
    "                    alpha=0.5,\n",
    "                    label=label_dict[label]\n",
    "                    )\n",
    "\n",
    "    plt.xlabel('LD1')\n",
    "    plt.ylabel('LD2')\n",
    "\n",
    "    leg = plt.legend(loc='upper right', fancybox=True)\n",
    "    leg.get_frame().set_alpha(0.5)\n",
    "    plt.title('LDA: Projection onto the first 2 linear discriminants')\n",
    "\n",
    "    plt.grid()\n",
    "    plt.tight_layout\n",
    "    plt.show()\n",
    "\n",
    "\n",
    "def normalise(v):\n",
    "    norm = np.linalg.norm(v)\n",
    "    if norm == 0: \n",
    "       return v\n",
    "    return v / norm"
   ]
  },
  {
   "cell_type": "markdown",
   "metadata": {},
   "source": [
    "\n",
    "## Three Groups Plot"
   ]
  },
  {
   "cell_type": "code",
   "execution_count": 10,
   "metadata": {},
   "outputs": [
    {
     "data": {
      "image/png": "[encoded data removed]",
      "text/plain": [
       "<Figure size 432x288 with 1 Axes>"
      ]
     },
     "metadata": {
      "needs_background": "light"
     },
     "output_type": "display_data"
    },
    {
     "name": "stdout",
     "output_type": "stream",
     "text": [
      "[0.18 0.29 0.94]\n",
      "corr: 0.7322465327359408\n"
     ]
    }
   ],
   "source": [
    "parameters = ['Conductivity', 'pH', 'ORP']\n",
    "dimension = len(parameters)\n",
    "chosen_sets = data.all_files\n",
    "FRC_groups = [[0,0.5], [0.5, 2], [2, 2.5]]\n",
    "\n",
    "X_prime, X, y, FRC = data.form_data_LDA(chosen_sets, dimension, parameters, FRC_groups)\n",
    "X_norm, X_r, lda = LDA_trial(FRC_groups, X,y)\n",
    "label_dict = {0: 'low', 1: 'safe', 2: 'high'}\n",
    "plot_lda(3, X_r, label_dict, y)\n",
    "\n",
    "scalings = lda.scalings_\n",
    "\n",
    "evec1 = scalings[:,0]\n",
    "\n",
    "print(normalise(evec1))\n",
    "\n",
    "X0 = data.normalise(X_prime)\n",
    "FRC = X0[:,0]\n",
    "X = X0[:, 1:]\n",
    "\n",
    "X_new = np.matmul(X_norm, evec1)\n",
    "corr = np.corrcoef(FRC, X_new)[0,1]\n",
    "print('corr: {}'.format(corr))"
   ]
  },
  {
   "cell_type": "markdown",
   "metadata": {},
   "source": [
    "\n",
    "## Two Groups Plot\n"
   ]
  },
  {
   "cell_type": "code",
   "execution_count": 13,
   "metadata": {},
   "outputs": [
    {
     "data": {
      "image/png": "[encoded data removed]",
      "text/plain": [
       "<Figure size 432x288 with 1 Axes>"
      ]
     },
     "metadata": {
      "needs_background": "light"
     },
     "output_type": "display_data"
    },
    {
     "name": "stdout",
     "output_type": "stream",
     "text": [
      "[0.13 0.25 0.96]\n",
      "corr: 0.7330329541862428\n"
     ]
    }
   ],
   "source": [
    "parameters = ['Conductivity', 'pH', 'ORP']\n",
    "dimension = len(parameters)\n",
    "chosen_sets = data.all_files\n",
    "FRC_groups = [[0,0.5], [0.5, 2.5]]\n",
    "\n",
    "X_prime, X, y2, FRC = data.form_data_LDA(chosen_sets, dimension, parameters, FRC_groups)\n",
    "X_norm, X_r2, lda2 = LDA_trial(FRC_groups, X,y2)\n",
    "label_dict = {0: 'low', 1: 'safe'}\n",
    "plot_lda(2, X_r, label_dict, y2)\n",
    "\n",
    "scalings = lda2.scalings_\n",
    "\n",
    "evec1 = scalings[:,0]\n",
    "\n",
    "print(normalise(evec1))\n",
    "\n",
    "X0 = data.normalise(X_prime)\n",
    "FRC = X0[:,0]\n",
    "X = X0[:, 1:]\n",
    "\n",
    "X_new = np.matmul(X_norm, evec1)\n",
    "corr = np.corrcoef(FRC, X_new)[0,1]\n",
    "print('corr: {}'.format(corr))"
   ]
  },
  {
   "cell_type": "markdown",
   "metadata": {},
   "source": [
    "\n",
    "## Scoring Runs"
   ]
  },
  {
   "cell_type": "code",
   "execution_count": 15,
   "metadata": {},
   "outputs": [
    {
     "name": "stderr",
     "output_type": "stream",
     "text": [
      "100%|██████████| 50/50 [00:00<00:00, 177.55it/s]"
     ]
    },
    {
     "name": "stdout",
     "output_type": "stream",
     "text": [
      "correlation for 3 classes: 0.7026097029683313\n",
      "score for 3 classes: 0.659\n",
      "weightings for 3 classes: [0.18 0.29 0.94]\n",
      "correlation for 2 classes: 0.7025829614806658\n",
      "score for 2 classes: 0.8515\n",
      "weightings for 2 classes: [0.13 0.25 0.96]\n"
     ]
    },
    {
     "name": "stderr",
     "output_type": "stream",
     "text": [
      "\n"
     ]
    }
   ],
   "source": [
    "parameters = ['Conductivity', 'pH', 'ORP']\n",
    "dimension = len(parameters)\n",
    "chosen_sets = data.all_files\n",
    "three_groups = [[0,0.5], [0.5, 2], [2, 2.5]]\n",
    "two_groups = [[0,0.5], [0.5,2.5]]\n",
    "\n",
    "X_prime, X2, y2, FRC = data.form_data_LDA(chosen_sets, dimension, parameters, two_groups)\n",
    "X_prime, X3, y3, FRC = data.form_data_LDA(chosen_sets, dimension, parameters, three_groups)\n",
    "\n",
    "\n",
    "corrs_3 = []\n",
    "scores_3 = []\n",
    "evecs_3 = np.zeros(dimension)\n",
    "\n",
    "corrs_2 = []\n",
    "scores_2 = []\n",
    "evecs_2 = np.zeros(dimension)\n",
    "\n",
    "\n",
    "for i in tqdm(range(50)):\n",
    "    X_train2, X_test2, y_train2, y_test2 = split(X2, y2, test_size=0.2, random_state=i)\n",
    "    X_train3, X_test3, y_train3, y_test3 = split(X3, y3, test_size=0.2, random_state=i)\n",
    "    \n",
    "\n",
    "    X_norm, X_r2, lda2 = LDA_trial(two_groups, X_train2, y_train2)\n",
    "    X_norm, X_r3, lda3 = LDA_trial(three_groups, X_train3, y_train3)\n",
    "\n",
    "    score3 = lda3.score(data.normalise(X_test3), y_test3, sample_weight=None)\n",
    "\n",
    "    score2 = lda2.score(data.normalise(X_test2), y_test2, sample_weight=None)\n",
    "\n",
    "    evec3 = lda3.scalings_[:,0]\n",
    "    evecs_3 += np.absolute(evec3)\n",
    "\n",
    "    evec2 = lda2.scalings_.flatten()\n",
    "    evecs_2 += np.absolute(evec2)\n",
    "\n",
    "    X_prime_train, X_prime_test, FRC_train, FRC_test = split(X_prime, FRC, test_size=0.2, random_state=i)\n",
    "    \n",
    "\n",
    "    X_new3 = np.matmul(X_test3, evec3)\n",
    "    corr3 = np.corrcoef(FRC_test, X_new3)[0,1]\n",
    "\n",
    "    X_new2 = np.matmul(X_test2, evec2)\n",
    "    corr2 = np.corrcoef(FRC_test, X_new2)[0,1]\n",
    "    \n",
    "    scores_3.append(score3)\n",
    "    corrs_3.append(np.absolute(corr3))\n",
    "\n",
    "    scores_2.append(score2)\n",
    "    corrs_2.append(np.absolute(corr2))\n",
    "\n",
    "evec3 = normalise(evecs_3/50)\n",
    "evec2 = normalise(evecs_2/50)\n",
    "\n",
    "print('correlation for 3 classes: {}'.format(np.mean(corrs_3)))\n",
    "print('score for 3 classes: {}'.format(np.mean(scores_3)))\n",
    "print('weightings for 3 classes: {}'.format(evec3))\n",
    "\n",
    "print('correlation for 2 classes: {}'.format(np.mean(corrs_2)))\n",
    "print('score for 2 classes: {}'.format(np.mean(scores_2)))\n",
    "print('weightings for 2 classes: {}'.format(evec2))"
   ]
  },
  {
   "cell_type": "code",
   "execution_count": null,
   "metadata": {},
   "outputs": [],
   "source": []
  }
 ],
 "metadata": {
  "kernelspec": {
   "display_name": "Python 3.9.5 64-bit",
   "language": "python",
   "name": "python3"
  },
  "language_info": {
   "codemirror_mode": {
    "name": "ipython",
    "version": 3
   },
   "file_extension": ".py",
   "mimetype": "text/x-python",
   "name": "python",
   "nbconvert_exporter": "python",
   "pygments_lexer": "ipython3",
   "version": "3.9.5"
  },
  "orig_nbformat": 4,
  "vscode": {
   "interpreter": {
    "hash": "aee8b7b246df8f9039afb4144a1f6fd8d2ca17a180786b69acc140d282b71a49"
   }
  }
 },
 "nbformat": 4,
 "nbformat_minor": 2
}
